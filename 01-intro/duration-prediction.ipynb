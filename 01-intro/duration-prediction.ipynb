{
 "cells": [
  {
   "cell_type": "code",
   "execution_count": 58,
   "id": "41062d8a",
   "metadata": {},
   "outputs": [],
   "source": [
    "import pandas as pd\n",
    "import numpy as np\n",
    "import pickle\n",
    "import seaborn as sns\n",
    "import matplotlib.pyplot as plt\n",
    "from sklearn.feature_extraction import DictVectorizer\n",
    "from sklearn.linear_model import LinearRegression\n",
    "from sklearn.linear_model import Lasso, LassoCV, Ridge\n",
    "from sklearn.metrics import root_mean_squared_error, mean_squared_error, r2_score\n",
    "from sklearn.preprocessing import StandardScaler\n",
    "from sklearn.model_selection import train_test_split, cross_val_score\n",
    "\n",
    "import warnings\n",
    "warnings.filterwarnings('ignore')"
   ]
  },
  {
   "cell_type": "code",
   "execution_count": 81,
   "id": "ce4615a9",
   "metadata": {},
   "outputs": [],
   "source": [
    "def read_dataframe(filename):\n",
    "    \n",
    "    # 1. Read the dataset\n",
    "    df = pd.read_parquet(filename)\n",
    "    # To modify the original DataFrame instead of creating a new one, use inplace=True\n",
    "    df.drop(['store_and_fwd_flag', 'ehail_fee'], axis=1, inplace=True)\n",
    "    df['duration'] = df.lpep_dropoff_datetime - df.lpep_pickup_datetime\n",
    "    df.duration = df.duration.apply(lambda td: td.total_seconds() / 60)\n",
    "    \n",
    "    df = df[(df.duration >= 1) & (df.duration <= 60)]\n",
    "    categorical = ['PULocationID', 'DOLocationID']\n",
    "    df[categorical] = df[categorical].astype(str)\n",
    "    \n",
    "    potential_leakage = ['total_amount']  # Features that might include duration in their calculation\n",
    "    features_to_drop = potential_leakage.copy()\n",
    "\n",
    "    # Create a clean dataset for feature selection\n",
    "    X_full = df.drop(['duration'] + features_to_drop, axis=1)\n",
    "    y = df['duration']\n",
    "    \n",
    "    # Step 2: Initial Feature Screening\n",
    "    # Calculate correlations with target\n",
    "    correlations = pd.DataFrame(X_full.corrwith(y).abs().sort_values(ascending=False))\n",
    "    correlations.columns = ['Correlation with Duration']\n",
    "    print(\"Feature correlations with duration:\")\n",
    "    print(correlations.head(10))\n",
    "    \n",
    "    # Extract time features if timestamps are available\n",
    "    if 'lpep_pickup_datetime' in X_full.columns:\n",
    "        # Convert to datetime if not already\n",
    "        X_full['lpep_pickup_datetime'] = pd.to_datetime(X_full['lpep_pickup_datetime'])\n",
    "        \n",
    "        # Extract hour of day and day of week\n",
    "        X_full['pickup_hour'] = X_full['lpep_pickup_datetime'].dt.hour\n",
    "        X_full['pickup_day_of_week'] = X_full['lpep_pickup_datetime'].dt.dayofweek\n",
    "        \n",
    "        # Create rush hour feature\n",
    "        X_full['is_rush_hour'] = ((X_full['pickup_hour'] >= 7) & (X_full['pickup_hour'] <= 10) | \n",
    "                                (X_full['pickup_hour'] >= 16) & (X_full['pickup_hour'] <= 19)).astype(int)\n",
    "        \n",
    "        # Drop original timestamp columns as they can't be used in linear models\n",
    "        X_full = X_full.drop(['lpep_pickup_datetime', 'lpep_dropoff_datetime'], axis=1, errors='ignore')\n",
    "\n",
    "    # Log transform skewed features (like trip_distance)\n",
    "    if 'trip_distance' in X_full.columns:\n",
    "        X_full['log_trip_distance'] = np.log1p(X_full['trip_distance'])\n",
    "\n",
    "    # Step 4: Handle Categorical Variables\n",
    "    # Identify categorical columns\n",
    "    categorical_cols = X_full.select_dtypes(include=['object', 'category']).columns.tolist()\n",
    "\n",
    "    # Add categorical columns with low cardinality\n",
    "    for col in X_full.columns:\n",
    "        if X_full[col].nunique() < 10 and col not in categorical_cols:\n",
    "            categorical_cols.append(col)\n",
    "\n",
    "    # One-hot encode categorical variables\n",
    "    X_encoded = pd.get_dummies(X_full, columns=categorical_cols, drop_first=True)\n",
    "    print(f\"\\nShape after encoding: {X_encoded.shape}\")\n",
    "    \n",
    "    return X_encoded, y"
   ]
  },
  {
   "cell_type": "code",
   "execution_count": 82,
   "id": "5eda7b5c",
   "metadata": {},
   "outputs": [],
   "source": [
    "X_train, y_train = pd.read_parquet('./data/green_tripdata_2021-01.parquet')\n",
    "X_test, y_test = pd.read_parquet('./data/green_tripdata_2021-02.parquet')"
   ]
  },
  {
   "cell_type": "code",
   "execution_count": 83,
   "id": "c91d5c4c",
   "metadata": {},
   "outputs": [
    {
     "name": "stdout",
     "output_type": "stream",
     "text": [
      "\n",
      "Optimal alpha parameter: 0.009951\n"
     ]
    }
   ],
   "source": [
    "# Step 5: Lasso-Based Feature Selection\n",
    "\n",
    "# Scale the features (important for regularization)\n",
    "scaler = StandardScaler()\n",
    "X_train_scaled = scaler.fit_transform(X_train)\n",
    "X_test_scaled = scaler.transform(X_test)\n",
    "\n",
    "# Use LassoCV to find the optimal alpha parameter\n",
    "lassoCV = LassoCV(cv=5, random_state=42, max_iter=10000)\n",
    "lassoCV.fit(X_train_scaled, y_train)\n",
    "optimal_alpha = lassoCV.alpha_\n",
    "print(f\"\\nOptimal alpha parameter: {optimal_alpha:.6f}\")"
   ]
  },
  {
   "cell_type": "code",
   "execution_count": 84,
   "id": "5c55c3aa",
   "metadata": {},
   "outputs": [
    {
     "name": "stdout",
     "output_type": "stream",
     "text": [
      "\n",
      "Lasso Selected Features:\n",
      "                       Feature  Coefficient  Abs_Coefficient\n",
      "1                  fare_amount     5.863455         5.863455\n",
      "6            log_trip_distance     5.163730         5.163730\n",
      "523                mta_tax_0.5     1.501239         1.501239\n",
      "0                trip_distance    -1.294114         1.294114\n",
      "525  improvement_surcharge_0.3    -0.535466         0.535466\n",
      "..                         ...          ...              ...\n",
      "187            PULocationID_34     0.000622         0.000622\n",
      "148           PULocationID_236    -0.000563         0.000563\n",
      "452            DOLocationID_44    -0.000555         0.000555\n",
      "263           DOLocationID_109    -0.000437         0.000437\n",
      "282           DOLocationID_127    -0.000170         0.000170\n",
      "\n",
      "[477 rows x 3 columns]\n"
     ]
    }
   ],
   "source": [
    "# Apply Lasso with the optimal alpha\n",
    "lasso = Lasso(alpha=optimal_alpha, random_state=42, max_iter=10000)\n",
    "lasso.fit(X_train_scaled, y_train)\n",
    "\n",
    "# Step 6: Analyze Selected Features\n",
    "feature_importance = pd.DataFrame({\n",
    "    'Feature': X_train.columns,\n",
    "    'Coefficient': lasso.coef_\n",
    "})\n",
    "feature_importance['Abs_Coefficient'] = feature_importance['Coefficient'].abs()\n",
    "selected_features = feature_importance[feature_importance['Coefficient'] != 0].sort_values('Abs_Coefficient', ascending=False)\n",
    "\n",
    "print(\"\\nLasso Selected Features:\")\n",
    "print(selected_features)"
   ]
  },
  {
   "cell_type": "code",
   "execution_count": 85,
   "id": "68b07e60",
   "metadata": {},
   "outputs": [
    {
     "name": "stdout",
     "output_type": "stream",
     "text": [
      "\n",
      "Number of features selected by Lasso: 477\n"
     ]
    }
   ],
   "source": [
    "# Step 8: Evaluate Selected Features\n",
    "# Get the names of selected features\n",
    "selected_feature_names = selected_features['Feature'].tolist()\n",
    "print(f\"\\nNumber of features selected by Lasso: {len(selected_feature_names)}\")"
   ]
  },
  {
   "cell_type": "code",
   "execution_count": 91,
   "id": "83dad51d",
   "metadata": {},
   "outputs": [
    {
     "name": "stdout",
     "output_type": "stream",
     "text": [
      "\n",
      "Model Performance with Selected Features:\n",
      "Saved Linear Regression model to models\\linear_regression_model.bin\n",
      "Linear Regression: RMSE = 5.7950, R² = 0.7469\n",
      "Saved Ridge Regression model to models\\ridge_regression_model.bin\n",
      "Ridge Regression: RMSE = 5.7917, R² = 0.7472\n"
     ]
    }
   ],
   "source": [
    "import os\n",
    "\n",
    "# Create a dataset with only selected features\n",
    "X_train_selected = X_train[selected_feature_names]\n",
    "X_test_selected = X_test[selected_feature_names]\n",
    "\n",
    "# Demonstrate model performance with selected features\n",
    "from sklearn.linear_model import LinearRegression, Ridge\n",
    "\n",
    "models = {\n",
    "    'Linear Regression': LinearRegression(),\n",
    "    'Ridge Regression': Ridge()\n",
    "}\n",
    "\n",
    "print(\"\\nModel Performance with Selected Features:\")\n",
    "for name, model in models.items():\n",
    "    model.fit(X_train_selected, y_train)\n",
    "    y_pred = model.predict(X_test_selected)\n",
    "    \n",
    "    # Save the model to the models folder\n",
    "    model_filename = os.path.join('models', f\"{name.lower().replace(' ', '_')}_model.bin\")\n",
    "    with open(model_filename, 'wb') as file:\n",
    "        pickle.dump(model, file)\n",
    "    print(f\"Saved {name} model to {model_filename}\")\n",
    "    \n",
    "    mse = mean_squared_error(y_test, y_pred)\n",
    "    r2 = r2_score(y_test, y_pred)\n",
    "    print(f\"{name}: RMSE = {np.sqrt(mse):.4f}, R² = {r2:.4f}\")"
   ]
  },
  {
   "cell_type": "code",
   "execution_count": 87,
   "id": "b134c97b",
   "metadata": {},
   "outputs": [
    {
     "data": {
      "text/plain": [
       "<matplotlib.legend.Legend at 0x27991112d00>"
      ]
     },
     "execution_count": 87,
     "metadata": {},
     "output_type": "execute_result"
    },
    {
     "data": {
      "image/png": "[encoded data removed]",
      "text/plain": [
       "<Figure size 1200x800 with 1 Axes>"
      ]
     },
     "metadata": {},
     "output_type": "display_data"
    }
   ],
   "source": [
    "plt.figure(figsize=(12, 8))\n",
    "sns.distplot(y_pred, label='prediction')\n",
    "sns.distplot(y_test, label='actual')\n",
    "\n",
    "plt.legend()"
   ]
  }
 ],
 "metadata": {
  "kernelspec": {
   "display_name": "DataClubenv",
   "language": "python",
   "name": "python3"
  },
  "language_info": {
   "codemirror_mode": {
    "name": "ipython",
    "version": 3
   },
   "file_extension": ".py",
   "mimetype": "text/x-python",
   "name": "python",
   "nbconvert_exporter": "python",
   "pygments_lexer": "ipython3",
   "version": "3.9.7"
  }
 },
 "nbformat": 4,
 "nbformat_minor": 5
}
