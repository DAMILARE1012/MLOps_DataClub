{
 "cells": [
  {
   "cell_type": "code",
   "execution_count": 48,
   "id": "41062d8a",
   "metadata": {},
   "outputs": [],
   "source": [
    "import pandas as pd\n",
    "import numpy as np\n",
    "import pickle\n",
    "import seaborn as sns\n",
    "import matplotlib.pyplot as plt\n",
    "from sklearn.feature_extraction import DictVectorizer\n",
    "from sklearn.linear_model import LinearRegression\n",
    "from sklearn.linear_model import Lasso, LassoCV, Ridge\n",
    "from sklearn.metrics import root_mean_squared_error, mean_squared_error, r2_score\n",
    "from sklearn.preprocessing import StandardScaler\n",
    "from sklearn.model_selection import train_test_split, cross_val_score\n",
    "\n",
    "import warnings\n",
    "warnings.filterwarnings('ignore')"
   ]
  },
  {
   "cell_type": "code",
   "execution_count": 49,
   "id": "9f40a3f2",
   "metadata": {},
   "outputs": [],
   "source": [
    "filename_one = './homework_data/yellow_tripdata_2023-01.parquet'\n",
    "filename_two = './homework_data/yellow_tripdata_2023-02.parquet'\n",
    "df_one = pd.read_parquet(filename_one)\n",
    "df_two = pd.read_parquet(filename_two)"
   ]
  },
  {
   "cell_type": "markdown",
   "id": "4d25341d",
   "metadata": {},
   "source": [
    "Download the data for January and February 2023.\n",
    "1. Read the data for January. How many columns are there?"
   ]
  },
  {
   "cell_type": "code",
   "execution_count": 50,
   "id": "9b3beaa1",
   "metadata": {},
   "outputs": [
    {
     "name": "stdout",
     "output_type": "stream",
     "text": [
      "Length of columns:  19\n"
     ]
    }
   ],
   "source": [
    "print(\"Length of columns: \", len(df_one.columns))"
   ]
  },
  {
   "cell_type": "code",
   "execution_count": 51,
   "id": "3f0af2d0",
   "metadata": {},
   "outputs": [
    {
     "data": {
      "text/html": [
       "<div>\n",
       "<style scoped>\n",
       "    .dataframe tbody tr th:only-of-type {\n",
       "        vertical-align: middle;\n",
       "    }\n",
       "\n",
       "    .dataframe tbody tr th {\n",
       "        vertical-align: top;\n",
       "    }\n",
       "\n",
       "    .dataframe thead th {\n",
       "        text-align: right;\n",
       "    }\n",
       "</style>\n",
       "<table border=\"1\" class=\"dataframe\">\n",
       "  <thead>\n",
       "    <tr style=\"text-align: right;\">\n",
       "      <th></th>\n",
       "      <th>VendorID</th>\n",
       "      <th>tpep_pickup_datetime</th>\n",
       "      <th>tpep_dropoff_datetime</th>\n",
       "      <th>passenger_count</th>\n",
       "      <th>trip_distance</th>\n",
       "      <th>RatecodeID</th>\n",
       "      <th>store_and_fwd_flag</th>\n",
       "      <th>PULocationID</th>\n",
       "      <th>DOLocationID</th>\n",
       "      <th>payment_type</th>\n",
       "      <th>fare_amount</th>\n",
       "      <th>extra</th>\n",
       "      <th>mta_tax</th>\n",
       "      <th>tip_amount</th>\n",
       "      <th>tolls_amount</th>\n",
       "      <th>improvement_surcharge</th>\n",
       "      <th>total_amount</th>\n",
       "      <th>congestion_surcharge</th>\n",
       "      <th>airport_fee</th>\n",
       "    </tr>\n",
       "  </thead>\n",
       "  <tbody>\n",
       "    <tr>\n",
       "      <th>0</th>\n",
       "      <td>2</td>\n",
       "      <td>2023-01-01 00:32:10</td>\n",
       "      <td>2023-01-01 00:40:36</td>\n",
       "      <td>1.0</td>\n",
       "      <td>0.97</td>\n",
       "      <td>1.0</td>\n",
       "      <td>N</td>\n",
       "      <td>161</td>\n",
       "      <td>141</td>\n",
       "      <td>2</td>\n",
       "      <td>9.3</td>\n",
       "      <td>1.00</td>\n",
       "      <td>0.5</td>\n",
       "      <td>0.00</td>\n",
       "      <td>0.0</td>\n",
       "      <td>1.0</td>\n",
       "      <td>14.30</td>\n",
       "      <td>2.5</td>\n",
       "      <td>0.00</td>\n",
       "    </tr>\n",
       "    <tr>\n",
       "      <th>1</th>\n",
       "      <td>2</td>\n",
       "      <td>2023-01-01 00:55:08</td>\n",
       "      <td>2023-01-01 01:01:27</td>\n",
       "      <td>1.0</td>\n",
       "      <td>1.10</td>\n",
       "      <td>1.0</td>\n",
       "      <td>N</td>\n",
       "      <td>43</td>\n",
       "      <td>237</td>\n",
       "      <td>1</td>\n",
       "      <td>7.9</td>\n",
       "      <td>1.00</td>\n",
       "      <td>0.5</td>\n",
       "      <td>4.00</td>\n",
       "      <td>0.0</td>\n",
       "      <td>1.0</td>\n",
       "      <td>16.90</td>\n",
       "      <td>2.5</td>\n",
       "      <td>0.00</td>\n",
       "    </tr>\n",
       "    <tr>\n",
       "      <th>2</th>\n",
       "      <td>2</td>\n",
       "      <td>2023-01-01 00:25:04</td>\n",
       "      <td>2023-01-01 00:37:49</td>\n",
       "      <td>1.0</td>\n",
       "      <td>2.51</td>\n",
       "      <td>1.0</td>\n",
       "      <td>N</td>\n",
       "      <td>48</td>\n",
       "      <td>238</td>\n",
       "      <td>1</td>\n",
       "      <td>14.9</td>\n",
       "      <td>1.00</td>\n",
       "      <td>0.5</td>\n",
       "      <td>15.00</td>\n",
       "      <td>0.0</td>\n",
       "      <td>1.0</td>\n",
       "      <td>34.90</td>\n",
       "      <td>2.5</td>\n",
       "      <td>0.00</td>\n",
       "    </tr>\n",
       "    <tr>\n",
       "      <th>3</th>\n",
       "      <td>1</td>\n",
       "      <td>2023-01-01 00:03:48</td>\n",
       "      <td>2023-01-01 00:13:25</td>\n",
       "      <td>0.0</td>\n",
       "      <td>1.90</td>\n",
       "      <td>1.0</td>\n",
       "      <td>N</td>\n",
       "      <td>138</td>\n",
       "      <td>7</td>\n",
       "      <td>1</td>\n",
       "      <td>12.1</td>\n",
       "      <td>7.25</td>\n",
       "      <td>0.5</td>\n",
       "      <td>0.00</td>\n",
       "      <td>0.0</td>\n",
       "      <td>1.0</td>\n",
       "      <td>20.85</td>\n",
       "      <td>0.0</td>\n",
       "      <td>1.25</td>\n",
       "    </tr>\n",
       "    <tr>\n",
       "      <th>4</th>\n",
       "      <td>2</td>\n",
       "      <td>2023-01-01 00:10:29</td>\n",
       "      <td>2023-01-01 00:21:19</td>\n",
       "      <td>1.0</td>\n",
       "      <td>1.43</td>\n",
       "      <td>1.0</td>\n",
       "      <td>N</td>\n",
       "      <td>107</td>\n",
       "      <td>79</td>\n",
       "      <td>1</td>\n",
       "      <td>11.4</td>\n",
       "      <td>1.00</td>\n",
       "      <td>0.5</td>\n",
       "      <td>3.28</td>\n",
       "      <td>0.0</td>\n",
       "      <td>1.0</td>\n",
       "      <td>19.68</td>\n",
       "      <td>2.5</td>\n",
       "      <td>0.00</td>\n",
       "    </tr>\n",
       "  </tbody>\n",
       "</table>\n",
       "</div>"
      ],
      "text/plain": [
       "   VendorID tpep_pickup_datetime tpep_dropoff_datetime  passenger_count  \\\n",
       "0         2  2023-01-01 00:32:10   2023-01-01 00:40:36              1.0   \n",
       "1         2  2023-01-01 00:55:08   2023-01-01 01:01:27              1.0   \n",
       "2         2  2023-01-01 00:25:04   2023-01-01 00:37:49              1.0   \n",
       "3         1  2023-01-01 00:03:48   2023-01-01 00:13:25              0.0   \n",
       "4         2  2023-01-01 00:10:29   2023-01-01 00:21:19              1.0   \n",
       "\n",
       "   trip_distance  RatecodeID store_and_fwd_flag  PULocationID  DOLocationID  \\\n",
       "0           0.97         1.0                  N           161           141   \n",
       "1           1.10         1.0                  N            43           237   \n",
       "2           2.51         1.0                  N            48           238   \n",
       "3           1.90         1.0                  N           138             7   \n",
       "4           1.43         1.0                  N           107            79   \n",
       "\n",
       "   payment_type  fare_amount  extra  mta_tax  tip_amount  tolls_amount  \\\n",
       "0             2          9.3   1.00      0.5        0.00           0.0   \n",
       "1             1          7.9   1.00      0.5        4.00           0.0   \n",
       "2             1         14.9   1.00      0.5       15.00           0.0   \n",
       "3             1         12.1   7.25      0.5        0.00           0.0   \n",
       "4             1         11.4   1.00      0.5        3.28           0.0   \n",
       "\n",
       "   improvement_surcharge  total_amount  congestion_surcharge  airport_fee  \n",
       "0                    1.0         14.30                   2.5         0.00  \n",
       "1                    1.0         16.90                   2.5         0.00  \n",
       "2                    1.0         34.90                   2.5         0.00  \n",
       "3                    1.0         20.85                   0.0         1.25  \n",
       "4                    1.0         19.68                   2.5         0.00  "
      ]
     },
     "execution_count": 51,
     "metadata": {},
     "output_type": "execute_result"
    }
   ],
   "source": [
    "df_one.head(5)"
   ]
  },
  {
   "cell_type": "markdown",
   "id": "5b723e6f",
   "metadata": {},
   "source": [
    "2. Now let's compute the duration variable. It should contain the duration of a ride in minutes.<br>\n",
    "What's the standard deviation of the trips duration in January?"
   ]
  },
  {
   "cell_type": "code",
   "execution_count": 52,
   "id": "b1f42b16",
   "metadata": {},
   "outputs": [
    {
     "name": "stdout",
     "output_type": "stream",
     "text": [
      "Standard deviation of trips duration in January 42.59434429744777\n"
     ]
    }
   ],
   "source": [
    "df_one['duration'] = df_one.tpep_dropoff_datetime - df_one.tpep_pickup_datetime\n",
    "df_one.duration = df_one.duration.apply(lambda td: td.total_seconds() / 60)\n",
    "print(\"Standard deviation of trips duration in January\", np.std(df_one.duration))"
   ]
  },
  {
   "cell_type": "code",
   "execution_count": 53,
   "id": "957d0618",
   "metadata": {},
   "outputs": [
    {
     "data": {
      "text/html": [
       "<div>\n",
       "<style scoped>\n",
       "    .dataframe tbody tr th:only-of-type {\n",
       "        vertical-align: middle;\n",
       "    }\n",
       "\n",
       "    .dataframe tbody tr th {\n",
       "        vertical-align: top;\n",
       "    }\n",
       "\n",
       "    .dataframe thead th {\n",
       "        text-align: right;\n",
       "    }\n",
       "</style>\n",
       "<table border=\"1\" class=\"dataframe\">\n",
       "  <thead>\n",
       "    <tr style=\"text-align: right;\">\n",
       "      <th></th>\n",
       "      <th>VendorID</th>\n",
       "      <th>tpep_pickup_datetime</th>\n",
       "      <th>tpep_dropoff_datetime</th>\n",
       "      <th>passenger_count</th>\n",
       "      <th>trip_distance</th>\n",
       "      <th>RatecodeID</th>\n",
       "      <th>store_and_fwd_flag</th>\n",
       "      <th>PULocationID</th>\n",
       "      <th>DOLocationID</th>\n",
       "      <th>payment_type</th>\n",
       "      <th>fare_amount</th>\n",
       "      <th>extra</th>\n",
       "      <th>mta_tax</th>\n",
       "      <th>tip_amount</th>\n",
       "      <th>tolls_amount</th>\n",
       "      <th>improvement_surcharge</th>\n",
       "      <th>total_amount</th>\n",
       "      <th>congestion_surcharge</th>\n",
       "      <th>airport_fee</th>\n",
       "      <th>duration</th>\n",
       "    </tr>\n",
       "  </thead>\n",
       "  <tbody>\n",
       "    <tr>\n",
       "      <th>0</th>\n",
       "      <td>2</td>\n",
       "      <td>2023-01-01 00:32:10</td>\n",
       "      <td>2023-01-01 00:40:36</td>\n",
       "      <td>1.0</td>\n",
       "      <td>0.97</td>\n",
       "      <td>1.0</td>\n",
       "      <td>N</td>\n",
       "      <td>161</td>\n",
       "      <td>141</td>\n",
       "      <td>2</td>\n",
       "      <td>9.3</td>\n",
       "      <td>1.00</td>\n",
       "      <td>0.5</td>\n",
       "      <td>0.00</td>\n",
       "      <td>0.0</td>\n",
       "      <td>1.0</td>\n",
       "      <td>14.30</td>\n",
       "      <td>2.5</td>\n",
       "      <td>0.00</td>\n",
       "      <td>8.433333</td>\n",
       "    </tr>\n",
       "    <tr>\n",
       "      <th>1</th>\n",
       "      <td>2</td>\n",
       "      <td>2023-01-01 00:55:08</td>\n",
       "      <td>2023-01-01 01:01:27</td>\n",
       "      <td>1.0</td>\n",
       "      <td>1.10</td>\n",
       "      <td>1.0</td>\n",
       "      <td>N</td>\n",
       "      <td>43</td>\n",
       "      <td>237</td>\n",
       "      <td>1</td>\n",
       "      <td>7.9</td>\n",
       "      <td>1.00</td>\n",
       "      <td>0.5</td>\n",
       "      <td>4.00</td>\n",
       "      <td>0.0</td>\n",
       "      <td>1.0</td>\n",
       "      <td>16.90</td>\n",
       "      <td>2.5</td>\n",
       "      <td>0.00</td>\n",
       "      <td>6.316667</td>\n",
       "    </tr>\n",
       "    <tr>\n",
       "      <th>2</th>\n",
       "      <td>2</td>\n",
       "      <td>2023-01-01 00:25:04</td>\n",
       "      <td>2023-01-01 00:37:49</td>\n",
       "      <td>1.0</td>\n",
       "      <td>2.51</td>\n",
       "      <td>1.0</td>\n",
       "      <td>N</td>\n",
       "      <td>48</td>\n",
       "      <td>238</td>\n",
       "      <td>1</td>\n",
       "      <td>14.9</td>\n",
       "      <td>1.00</td>\n",
       "      <td>0.5</td>\n",
       "      <td>15.00</td>\n",
       "      <td>0.0</td>\n",
       "      <td>1.0</td>\n",
       "      <td>34.90</td>\n",
       "      <td>2.5</td>\n",
       "      <td>0.00</td>\n",
       "      <td>12.750000</td>\n",
       "    </tr>\n",
       "    <tr>\n",
       "      <th>3</th>\n",
       "      <td>1</td>\n",
       "      <td>2023-01-01 00:03:48</td>\n",
       "      <td>2023-01-01 00:13:25</td>\n",
       "      <td>0.0</td>\n",
       "      <td>1.90</td>\n",
       "      <td>1.0</td>\n",
       "      <td>N</td>\n",
       "      <td>138</td>\n",
       "      <td>7</td>\n",
       "      <td>1</td>\n",
       "      <td>12.1</td>\n",
       "      <td>7.25</td>\n",
       "      <td>0.5</td>\n",
       "      <td>0.00</td>\n",
       "      <td>0.0</td>\n",
       "      <td>1.0</td>\n",
       "      <td>20.85</td>\n",
       "      <td>0.0</td>\n",
       "      <td>1.25</td>\n",
       "      <td>9.616667</td>\n",
       "    </tr>\n",
       "    <tr>\n",
       "      <th>4</th>\n",
       "      <td>2</td>\n",
       "      <td>2023-01-01 00:10:29</td>\n",
       "      <td>2023-01-01 00:21:19</td>\n",
       "      <td>1.0</td>\n",
       "      <td>1.43</td>\n",
       "      <td>1.0</td>\n",
       "      <td>N</td>\n",
       "      <td>107</td>\n",
       "      <td>79</td>\n",
       "      <td>1</td>\n",
       "      <td>11.4</td>\n",
       "      <td>1.00</td>\n",
       "      <td>0.5</td>\n",
       "      <td>3.28</td>\n",
       "      <td>0.0</td>\n",
       "      <td>1.0</td>\n",
       "      <td>19.68</td>\n",
       "      <td>2.5</td>\n",
       "      <td>0.00</td>\n",
       "      <td>10.833333</td>\n",
       "    </tr>\n",
       "  </tbody>\n",
       "</table>\n",
       "</div>"
      ],
      "text/plain": [
       "   VendorID tpep_pickup_datetime tpep_dropoff_datetime  passenger_count  \\\n",
       "0         2  2023-01-01 00:32:10   2023-01-01 00:40:36              1.0   \n",
       "1         2  2023-01-01 00:55:08   2023-01-01 01:01:27              1.0   \n",
       "2         2  2023-01-01 00:25:04   2023-01-01 00:37:49              1.0   \n",
       "3         1  2023-01-01 00:03:48   2023-01-01 00:13:25              0.0   \n",
       "4         2  2023-01-01 00:10:29   2023-01-01 00:21:19              1.0   \n",
       "\n",
       "   trip_distance  RatecodeID store_and_fwd_flag  PULocationID  DOLocationID  \\\n",
       "0           0.97         1.0                  N           161           141   \n",
       "1           1.10         1.0                  N            43           237   \n",
       "2           2.51         1.0                  N            48           238   \n",
       "3           1.90         1.0                  N           138             7   \n",
       "4           1.43         1.0                  N           107            79   \n",
       "\n",
       "   payment_type  fare_amount  extra  mta_tax  tip_amount  tolls_amount  \\\n",
       "0             2          9.3   1.00      0.5        0.00           0.0   \n",
       "1             1          7.9   1.00      0.5        4.00           0.0   \n",
       "2             1         14.9   1.00      0.5       15.00           0.0   \n",
       "3             1         12.1   7.25      0.5        0.00           0.0   \n",
       "4             1         11.4   1.00      0.5        3.28           0.0   \n",
       "\n",
       "   improvement_surcharge  total_amount  congestion_surcharge  airport_fee  \\\n",
       "0                    1.0         14.30                   2.5         0.00   \n",
       "1                    1.0         16.90                   2.5         0.00   \n",
       "2                    1.0         34.90                   2.5         0.00   \n",
       "3                    1.0         20.85                   0.0         1.25   \n",
       "4                    1.0         19.68                   2.5         0.00   \n",
       "\n",
       "    duration  \n",
       "0   8.433333  \n",
       "1   6.316667  \n",
       "2  12.750000  \n",
       "3   9.616667  \n",
       "4  10.833333  "
      ]
     },
     "execution_count": 53,
     "metadata": {},
     "output_type": "execute_result"
    }
   ],
   "source": [
    "df_one.head(5)"
   ]
  },
  {
   "cell_type": "markdown",
   "id": "9367e836",
   "metadata": {},
   "source": [
    "3. Next, we need to check the distribution of the duration variable. There are some outliers. Let's remove them and keep only the records where the duration was between 1 and 60 minutes (inclusive).\n",
    "What fraction of the records left after you dropped the outliers?"
   ]
  },
  {
   "cell_type": "code",
   "execution_count": 54,
   "id": "ca3a52a8",
   "metadata": {},
   "outputs": [
    {
     "name": "stdout",
     "output_type": "stream",
     "text": [
      "Original data count:  3066766\n",
      "Filtered data count:  3009173\n",
      "Fraction of records remaining after removing outliers: 98.12%\n"
     ]
    },
    {
     "data": {
      "text/plain": [
       "<matplotlib.legend.Legend at 0x2a307a09100>"
      ]
     },
     "execution_count": 54,
     "metadata": {},
     "output_type": "execute_result"
    },
    {
     "data": {
      "image/png": "[encoded data removed]",
      "text/plain": [
       "<Figure size 1200x800 with 1 Axes>"
      ]
     },
     "metadata": {},
     "output_type": "display_data"
    }
   ],
   "source": [
    "# Store the original number of records\n",
    "original_count = len(df_one.duration)\n",
    "print(\"Original data count: \", original_count)\n",
    "\n",
    "# Filter the dataset to keep durations between 1 and 60 minutes\n",
    "df_filtered = df_one[(df_one.duration >= 1) & (df_one.duration <= 60)]\n",
    "\n",
    "# Store the new count after filtering\n",
    "filtered_count = len(df_filtered)\n",
    "print(\"Filtered data count: \", filtered_count)\n",
    "\n",
    "# Calculate the fraction remaining\n",
    "fraction_remaining = filtered_count / original_count\n",
    "\n",
    "# Print the result\n",
    "print(f\"Fraction of records remaining after removing outliers: {fraction_remaining:.2%}\")\n",
    "\n",
    "# Plot the distribution of the filtered durations\n",
    "plt.figure(figsize=(12, 8))\n",
    "sns.distplot(df_filtered.duration, label='Duration Distribution')\n",
    "plt.legend()"
   ]
  },
  {
   "cell_type": "markdown",
   "id": "bd54b76a",
   "metadata": {},
   "source": [
    "4. Let's apply one-hot encoding to the pickup and dropoff location IDs. We'll use only these two features for our model.\n",
    "    - Turn the dataframe into a list of dictionaries (remember to re-cast the ids to strings - otherwise it will label encode them)\n",
    "    - Fit a dictionary vectorizer\n",
    "    - Get a feature matrix from it\n",
    "    - What's the dimensionality of this matrix (number of columns)?"
   ]
  },
  {
   "cell_type": "code",
   "execution_count": 55,
   "id": "e0e52297",
   "metadata": {},
   "outputs": [
    {
     "name": "stdout",
     "output_type": "stream",
     "text": [
      "The dimensionality of this matrix (number of columns):  2\n"
     ]
    }
   ],
   "source": [
    "categorical = ['PULocationID', 'DOLocationID']\n",
    "numerical = ['trip_distance']\n",
    "\n",
    "dict_vectorizer = DictVectorizer()\n",
    "df_dicts = df_one[categorical + numerical].to_dict(orient=\"records\")\n",
    "X_train = dict_vectorizer.fit_transform(df_dicts)\n",
    "print(\"The dimensionality of this matrix (number of columns): \", X_train.ndim)"
   ]
  },
  {
   "cell_type": "markdown",
   "id": "6c59ab2a",
   "metadata": {},
   "source": [
    "5. Now let's use the feature matrix from the previous step to train a model.\n",
    "    - Train a plain linear regression model with default parameters, where duration is the response variable\n",
    "    - Calculate the RMSE of the model on the training data\n",
    "    - What's the RMSE on train?"
   ]
  },
  {
   "cell_type": "code",
   "execution_count": 58,
   "id": "01c15812",
   "metadata": {},
   "outputs": [
    {
     "data": {
      "text/plain": [
       "42.56058681173718"
      ]
     },
     "execution_count": 58,
     "metadata": {},
     "output_type": "execute_result"
    }
   ],
   "source": [
    "target =  \"duration\"\n",
    "y_train = df_one[target].values\n",
    "\n",
    "lr = LinearRegression()\n",
    "lr.fit(X_train, y_train)\n",
    "\n",
    "y_pred = lr.predict(X_train)\n",
    "root_mean_squared_error(y_train, y_pred)"
   ]
  },
  {
   "cell_type": "code",
   "execution_count": 81,
   "id": "ce4615a9",
   "metadata": {},
   "outputs": [],
   "source": [
    "def read_dataframe(filename):\n",
    "    \n",
    "    # 1. Read the dataset\n",
    "    df = pd.read_parquet(filename)\n",
    "    # To modify the original DataFrame instead of creating a new one, use inplace=True\n",
    "    df.drop(['store_and_fwd_flag', 'ehail_fee'], axis=1, inplace=True)\n",
    "    df['duration'] = df.lpep_dropoff_datetime - df.lpep_pickup_datetime\n",
    "    df.duration = df.duration.apply(lambda td: td.total_seconds() / 60)\n",
    "    \n",
    "    df = df[(df.duration >= 1) & (df.duration <= 60)]\n",
    "    categorical = ['PULocationID', 'DOLocationID']\n",
    "    df[categorical] = df[categorical].astype(str)\n",
    "    \n",
    "    potential_leakage = ['total_amount']  # Features that might include duration in their calculation\n",
    "    features_to_drop = potential_leakage.copy()\n",
    "\n",
    "    # Create a clean dataset for feature selection\n",
    "    X_full = df.drop(['duration'] + features_to_drop, axis=1)\n",
    "    y = df['duration']\n",
    "    \n",
    "    # Step 2: Initial Feature Screening\n",
    "    # Calculate correlations with target\n",
    "    correlations = pd.DataFrame(X_full.corrwith(y).abs().sort_values(ascending=False))\n",
    "    correlations.columns = ['Correlation with Duration']\n",
    "    print(\"Feature correlations with duration:\")\n",
    "    print(correlations.head(10))\n",
    "    \n",
    "    # Extract time features if timestamps are available\n",
    "    if 'lpep_pickup_datetime' in X_full.columns:\n",
    "        # Convert to datetime if not already\n",
    "        X_full['lpep_pickup_datetime'] = pd.to_datetime(X_full['lpep_pickup_datetime'])\n",
    "        \n",
    "        # Extract hour of day and day of week\n",
    "        X_full['pickup_hour'] = X_full['lpep_pickup_datetime'].dt.hour\n",
    "        X_full['pickup_day_of_week'] = X_full['lpep_pickup_datetime'].dt.dayofweek\n",
    "        \n",
    "        # Create rush hour feature\n",
    "        X_full['is_rush_hour'] = ((X_full['pickup_hour'] >= 7) & (X_full['pickup_hour'] <= 10) | \n",
    "                                (X_full['pickup_hour'] >= 16) & (X_full['pickup_hour'] <= 19)).astype(int)\n",
    "        \n",
    "        # Drop original timestamp columns as they can't be used in linear models\n",
    "        X_full = X_full.drop(['lpep_pickup_datetime', 'lpep_dropoff_datetime'], axis=1, errors='ignore')\n",
    "\n",
    "    # Log transform skewed features (like trip_distance)\n",
    "    if 'trip_distance' in X_full.columns:\n",
    "        X_full['log_trip_distance'] = np.log1p(X_full['trip_distance'])\n",
    "\n",
    "    # Step 4: Handle Categorical Variables\n",
    "    # Identify categorical columns\n",
    "    categorical_cols = X_full.select_dtypes(include=['object', 'category']).columns.tolist()\n",
    "\n",
    "    # Add categorical columns with low cardinality\n",
    "    for col in X_full.columns:\n",
    "        if X_full[col].nunique() < 10 and col not in categorical_cols:\n",
    "            categorical_cols.append(col)\n",
    "\n",
    "    # One-hot encode categorical variables\n",
    "    X_encoded = pd.get_dummies(X_full, columns=categorical_cols, drop_first=True)\n",
    "    print(f\"\\nShape after encoding: {X_encoded.shape}\")\n",
    "    \n",
    "    return X_encoded, y"
   ]
  },
  {
   "cell_type": "code",
   "execution_count": 82,
   "id": "5eda7b5c",
   "metadata": {},
   "outputs": [],
   "source": [
    "X_train, y_train = pd.read_parquet('./data/green_tripdata_2021-01.parquet')\n",
    "X_test, y_test = pd.read_parquet('./data/green_tripdata_2021-02.parquet')"
   ]
  },
  {
   "cell_type": "code",
   "execution_count": 83,
   "id": "c91d5c4c",
   "metadata": {},
   "outputs": [
    {
     "name": "stdout",
     "output_type": "stream",
     "text": [
      "\n",
      "Optimal alpha parameter: 0.009951\n"
     ]
    }
   ],
   "source": [
    "# Step 5: Lasso-Based Feature Selection\n",
    "\n",
    "# Scale the features (important for regularization)\n",
    "scaler = StandardScaler()\n",
    "X_train_scaled = scaler.fit_transform(X_train)\n",
    "X_test_scaled = scaler.transform(X_test)\n",
    "\n",
    "# Use LassoCV to find the optimal alpha parameter\n",
    "lassoCV = LassoCV(cv=5, random_state=42, max_iter=10000)\n",
    "lassoCV.fit(X_train_scaled, y_train)\n",
    "optimal_alpha = lassoCV.alpha_\n",
    "print(f\"\\nOptimal alpha parameter: {optimal_alpha:.6f}\")"
   ]
  },
  {
   "cell_type": "code",
   "execution_count": 84,
   "id": "5c55c3aa",
   "metadata": {},
   "outputs": [
    {
     "name": "stdout",
     "output_type": "stream",
     "text": [
      "\n",
      "Lasso Selected Features:\n",
      "                       Feature  Coefficient  Abs_Coefficient\n",
      "1                  fare_amount     5.863455         5.863455\n",
      "6            log_trip_distance     5.163730         5.163730\n",
      "523                mta_tax_0.5     1.501239         1.501239\n",
      "0                trip_distance    -1.294114         1.294114\n",
      "525  improvement_surcharge_0.3    -0.535466         0.535466\n",
      "..                         ...          ...              ...\n",
      "187            PULocationID_34     0.000622         0.000622\n",
      "148           PULocationID_236    -0.000563         0.000563\n",
      "452            DOLocationID_44    -0.000555         0.000555\n",
      "263           DOLocationID_109    -0.000437         0.000437\n",
      "282           DOLocationID_127    -0.000170         0.000170\n",
      "\n",
      "[477 rows x 3 columns]\n"
     ]
    }
   ],
   "source": [
    "# Apply Lasso with the optimal alpha\n",
    "lasso = Lasso(alpha=optimal_alpha, random_state=42, max_iter=10000)\n",
    "lasso.fit(X_train_scaled, y_train)\n",
    "\n",
    "# Step 6: Analyze Selected Features\n",
    "feature_importance = pd.DataFrame({\n",
    "    'Feature': X_train.columns,\n",
    "    'Coefficient': lasso.coef_\n",
    "})\n",
    "feature_importance['Abs_Coefficient'] = feature_importance['Coefficient'].abs()\n",
    "selected_features = feature_importance[feature_importance['Coefficient'] != 0].sort_values('Abs_Coefficient', ascending=False)\n",
    "\n",
    "print(\"\\nLasso Selected Features:\")\n",
    "print(selected_features)"
   ]
  },
  {
   "cell_type": "code",
   "execution_count": 85,
   "id": "68b07e60",
   "metadata": {},
   "outputs": [
    {
     "name": "stdout",
     "output_type": "stream",
     "text": [
      "\n",
      "Number of features selected by Lasso: 477\n"
     ]
    }
   ],
   "source": [
    "# Step 8: Evaluate Selected Features\n",
    "# Get the names of selected features\n",
    "selected_feature_names = selected_features['Feature'].tolist()\n",
    "print(f\"\\nNumber of features selected by Lasso: {len(selected_feature_names)}\")"
   ]
  },
  {
   "cell_type": "code",
   "execution_count": 91,
   "id": "83dad51d",
   "metadata": {},
   "outputs": [
    {
     "name": "stdout",
     "output_type": "stream",
     "text": [
      "\n",
      "Model Performance with Selected Features:\n",
      "Saved Linear Regression model to models\\linear_regression_model.bin\n",
      "Linear Regression: RMSE = 5.7950, R² = 0.7469\n",
      "Saved Ridge Regression model to models\\ridge_regression_model.bin\n",
      "Ridge Regression: RMSE = 5.7917, R² = 0.7472\n"
     ]
    }
   ],
   "source": [
    "import os\n",
    "\n",
    "# Create a dataset with only selected features\n",
    "X_train_selected = X_train[selected_feature_names]\n",
    "X_test_selected = X_test[selected_feature_names]\n",
    "\n",
    "# Demonstrate model performance with selected features\n",
    "from sklearn.linear_model import LinearRegression, Ridge\n",
    "\n",
    "models = {\n",
    "    'Linear Regression': LinearRegression(),\n",
    "    'Ridge Regression': Ridge()\n",
    "}\n",
    "\n",
    "print(\"\\nModel Performance with Selected Features:\")\n",
    "for name, model in models.items():\n",
    "    model.fit(X_train_selected, y_train)\n",
    "    y_pred = model.predict(X_test_selected)\n",
    "    \n",
    "    # Save the model to the models folder\n",
    "    model_filename = os.path.join('models', f\"{name.lower().replace(' ', '_')}_model.bin\")\n",
    "    with open(model_filename, 'wb') as file:\n",
    "        pickle.dump(model, file)\n",
    "    print(f\"Saved {name} model to {model_filename}\")\n",
    "    \n",
    "    mse = mean_squared_error(y_test, y_pred)\n",
    "    r2 = r2_score(y_test, y_pred)\n",
    "    print(f\"{name}: RMSE = {np.sqrt(mse):.4f}, R² = {r2:.4f}\")"
   ]
  },
  {
   "cell_type": "code",
   "execution_count": 87,
   "id": "b134c97b",
   "metadata": {},
   "outputs": [
    {
     "data": {
      "text/plain": [
       "<matplotlib.legend.Legend at 0x27991112d00>"
      ]
     },
     "execution_count": 87,
     "metadata": {},
     "output_type": "execute_result"
    },
    {
     "data": {
      "image/png": "[encoded data removed]",
      "text/plain": [
       "<Figure size 1200x800 with 1 Axes>"
      ]
     },
     "metadata": {},
     "output_type": "display_data"
    }
   ],
   "source": [
    "plt.figure(figsize=(12, 8))\n",
    "sns.distplot(y_pred, label='prediction')\n",
    "sns.distplot(y_test, label='actual')\n",
    "\n",
    "plt.legend()"
   ]
  }
 ],
 "metadata": {
  "kernelspec": {
   "display_name": "DataClubenv",
   "language": "python",
   "name": "python3"
  },
  "language_info": {
   "codemirror_mode": {
    "name": "ipython",
    "version": 3
   },
   "file_extension": ".py",
   "mimetype": "text/x-python",
   "name": "python",
   "nbconvert_exporter": "python",
   "pygments_lexer": "ipython3",
   "version": "3.9.7"
  }
 },
 "nbformat": 4,
 "nbformat_minor": 5
}
