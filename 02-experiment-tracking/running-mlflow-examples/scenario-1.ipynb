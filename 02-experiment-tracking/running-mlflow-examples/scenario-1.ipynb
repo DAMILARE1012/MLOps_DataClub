{
 "cells": [
  {
   "cell_type": "markdown",
   "metadata": {},
   "source": [
    "## Scenario 1: A single data scientist participating in an ML competition\n",
    "\n",
    "MLflow setup:\n",
    "* Tracking server: no\n",
    "* Backend store: local filesystem\n",
    "* Artifacts store: local filesystem\n",
    "\n",
    "The experiments can be explored locally by launching the MLflow UI."
   ]
  },
  {
   "cell_type": "code",
   "execution_count": 1,
   "metadata": {},
   "outputs": [],
   "source": [
    "import mlflow"
   ]
  },
  {
   "cell_type": "code",
   "execution_count": 6,
   "metadata": {},
   "outputs": [
    {
     "name": "stdout",
     "output_type": "stream",
     "text": [
      "2.22.0\n",
      "tracking URI: 'file:///c:/Users/Damilare/Desktop/DataClubs/mlops-zoomcamp/02-experiment-tracking/running-mlflow-examples/mlruns'\n"
     ]
    }
   ],
   "source": [
    "print(mlflow.__version__)\n",
    "print(f\"tracking URI: '{mlflow.get_tracking_uri()}'\")"
   ]
  },
  {
   "cell_type": "code",
   "execution_count": 5,
   "metadata": {},
   "outputs": [
    {
     "data": {
      "text/plain": [
       "[<Experiment: artifact_location='file:///c:/Users/Damilare/Desktop/DataClubs/mlops-zoomcamp/02-experiment-tracking/running-mlflow-examples/mlruns/735106529261576010', creation_time=1747948239673, experiment_id='735106529261576010', last_update_time=1747948239673, lifecycle_stage='active', name='my-experiment-1', tags={}>,\n",
       " <Experiment: artifact_location='file:///c:/Users/Damilare/Desktop/DataClubs/mlops-zoomcamp/02-experiment-tracking/running-mlflow-examples/mlruns/0', creation_time=1747947918734, experiment_id='0', last_update_time=1747947918734, lifecycle_stage='active', name='Default', tags={}>]"
      ]
     },
     "execution_count": 5,
     "metadata": {},
     "output_type": "execute_result"
    }
   ],
   "source": [
    "mlflow.search_experiments()"
   ]
  },
  {
   "cell_type": "markdown",
   "metadata": {},
   "source": [
    "### Creating an experiment and logging a new run"
   ]
  },
  {
   "cell_type": "code",
   "execution_count": 7,
   "metadata": {},
   "outputs": [
    {
     "name": "stderr",
     "output_type": "stream",
     "text": [
      "2025/05/24 09:38:06 WARNING mlflow.models.model: Model logged without a signature and input example. Please set `input_example` parameter when logging the model to auto infer the model signature.\n"
     ]
    },
    {
     "name": "stdout",
     "output_type": "stream",
     "text": [
      "default artifacts URI: 'file:///c:/Users/Damilare/Desktop/DataClubs/mlops-zoomcamp/02-experiment-tracking/running-mlflow-examples/mlruns/735106529261576010/37e72bedb52c4e9db5c6c1272529d1db/artifacts'\n"
     ]
    }
   ],
   "source": [
    "from sklearn.linear_model import LogisticRegression\n",
    "from sklearn.datasets import load_iris\n",
    "from sklearn.metrics import accuracy_score\n",
    "\n",
    "mlflow.set_experiment(\"my-experiment-1\")\n",
    "\n",
    "with mlflow.start_run():\n",
    "\n",
    "    X, y = load_iris(return_X_y=True)\n",
    "\n",
    "    params = {\n",
    "        \"C\": 0.1, \n",
    "        \"random_state\": 42\n",
    "    }\n",
    "    \n",
    "    mlflow.log_params(params)\n",
    "\n",
    "    lr = LogisticRegression(**params).fit(X, y)\n",
    "    y_pred = lr.predict(X)\n",
    "    mlflow.log_metric(\"accuracy\", accuracy_score(y, y_pred))\n",
    "\n",
    "    mlflow.sklearn.log_model(lr, artifact_path=\"models\")\n",
    "    print(f\"default artifacts URI: '{mlflow.get_artifact_uri()}'\")"
   ]
  },
  {
   "cell_type": "code",
   "execution_count": 8,
   "metadata": {},
   "outputs": [
    {
     "name": "stdout",
     "output_type": "stream",
     "text": [
      "Experiment ID: 735106529261576010, Name: my-experiment-1, Artifact Location: file:///c:/Users/Damilare/Desktop/DataClubs/mlops-zoomcamp/02-experiment-tracking/running-mlflow-examples/mlruns/735106529261576010\n",
      "Experiment ID: 0, Name: Default, Artifact Location: file:///c:/Users/Damilare/Desktop/DataClubs/mlops-zoomcamp/02-experiment-tracking/running-mlflow-examples/mlruns/0\n"
     ]
    }
   ],
   "source": [
    "import mlflow\n",
    "\n",
    "experiments = mlflow.search_experiments()\n",
    "for exp in experiments:\n",
    "    print(f\"Experiment ID: {exp.experiment_id}, Name: {exp.name}, Artifact Location: {exp.artifact_location}\")\n"
   ]
  },
  {
   "cell_type": "code",
   "execution_count": null,
   "metadata": {},
   "outputs": [],
   "source": [
    "# mlflow.show_experiments()"
   ]
  },
  {
   "cell_type": "markdown",
   "metadata": {},
   "source": [
    "### Interacting with the model registry"
   ]
  },
  {
   "cell_type": "code",
   "execution_count": 1,
   "metadata": {},
   "outputs": [
    {
     "name": "stdout",
     "output_type": "stream",
     "text": [
      "2.22.0\n"
     ]
    }
   ],
   "source": [
    "import mlflow\n",
    "print(mlflow.__version__)"
   ]
  },
  {
   "cell_type": "code",
   "execution_count": 8,
   "metadata": {},
   "outputs": [
    {
     "name": "stdout",
     "output_type": "stream",
     "text": [
      "Found run ID: d2ecd24071054713a725fd451b0fa01e\n",
      "Model registered: my-sklearn-model\n"
     ]
    },
    {
     "name": "stderr",
     "output_type": "stream",
     "text": [
      "Successfully registered model 'my-sklearn-model'.\n",
      "Created version '1' of model 'my-sklearn-model'.\n"
     ]
    }
   ],
   "source": [
    "from mlflow.tracking import MlflowClient\n",
    "\n",
    "client = MlflowClient()\n",
    "\n",
    "# Get the most recent run\n",
    "experiment = client.get_experiment_by_name(\"my-experiment-1\")  # or your experiment name\n",
    "runs = client.search_runs([experiment.experiment_id], order_by=[\"start_time DESC\"], max_results=1)\n",
    "\n",
    "if runs:\n",
    "    run_id = runs[0].info.run_id\n",
    "    print(f\"Found run ID: {run_id}\")\n",
    "    \n",
    "    # Now register the model\n",
    "    model_uri = f\"runs:/{run_id}/models\"\n",
    "    registered_model = mlflow.register_model(model_uri, \"my-sklearn-model\")\n",
    "    print(f\"Model registered: {registered_model.name}\")\n",
    "else:\n",
    "    print(\"No runs found\")"
   ]
  },
  {
   "cell_type": "code",
   "execution_count": 9,
   "metadata": {},
   "outputs": [
    {
     "name": "stdout",
     "output_type": "stream",
     "text": [
      "✅ Model registry is accessible!\n",
      "Found 1 registered models\n"
     ]
    }
   ],
   "source": [
    "from mlflow.tracking import MlflowClient\n",
    "from mlflow.exceptions import MlflowException\n",
    "\n",
    "client = MlflowClient()\n",
    "\n",
    "try:\n",
    "    models = client.search_registered_models()\n",
    "    print(\"✅ Model registry is accessible!\")\n",
    "    print(f\"Found {len(models)} registered models\")\n",
    "except MlflowException as e:\n",
    "    print(\"❌ It's not possible to access the model registry :(\")\n",
    "    print(f\"Error details: {e}\")"
   ]
  },
  {
   "cell_type": "code",
   "execution_count": null,
   "metadata": {},
   "outputs": [],
   "source": []
  }
 ],
 "metadata": {
  "kernelspec": {
   "display_name": "DataClubenv",
   "language": "python",
   "name": "python3"
  },
  "language_info": {
   "codemirror_mode": {
    "name": "ipython",
    "version": 3
   },
   "file_extension": ".py",
   "mimetype": "text/x-python",
   "name": "python",
   "nbconvert_exporter": "python",
   "pygments_lexer": "ipython3",
   "version": "3.9.7"
  },
  "orig_nbformat": 4
 },
 "nbformat": 4,
 "nbformat_minor": 2
}
